{
 "cells": [
  {
   "cell_type": "code",
   "execution_count": 1,
   "metadata": {},
   "outputs": [],
   "source": [
    "##Cormac McHale"
   ]
  },
  {
   "cell_type": "code",
   "execution_count": 2,
   "metadata": {},
   "outputs": [],
   "source": [
    "##Training the Neural Network"
   ]
  },
  {
   "cell_type": "code",
   "execution_count": 3,
   "metadata": {},
   "outputs": [
    {
     "name": "stderr",
     "output_type": "stream",
     "text": [
      "Using TensorFlow backend.\n"
     ]
    }
   ],
   "source": [
    "import gzip\n",
    "import sklearn.preprocessing as pre\n",
    "import keras as kr\n",
    "import numpy as np\n",
    "from keras.models import load_model"
   ]
  },
  {
   "cell_type": "code",
   "execution_count": 4,
   "metadata": {},
   "outputs": [],
   "source": [
    "# Start a neural network, building it by layers.\n",
    "model = kr.models.Sequential()\n",
    "\n",
    "# Add a hidden layer with 1000 neurons and an input layer with 784.\n",
    "model.add(kr.layers.Dense(units=1000, activation='sigmoid', input_dim=784))\n",
    "model.add(kr.layers.Dense(units=1000, activation='sigmoid'))\n",
    "# Add a 10 neuron output layer for each digit??\n",
    "model.add(kr.layers.Dense(units=10, activation='sigmoid'))\n",
    "\n",
    "# Build the graph.\n",
    "model.compile(loss='categorical_crossentropy', optimizer='adam', metrics=['accuracy'])"
   ]
  },
  {
   "cell_type": "code",
   "execution_count": 5,
   "metadata": {},
   "outputs": [],
   "source": [
    "##file reading and formatting\n",
    "imagesFile  = open('MNIST/train-images.idx3-ubyte', 'rb')\n",
    "labelsFile = open('MNIST/train-labels.idx1-ubyte', 'rb')\n",
    "images = imagesFile.read()\n",
    "labels = labelsFile.read()\n",
    "images = (~np.array(list(images[16:])).reshape(60000, 28, 28).astype(np.uint8)-255)\n",
    "labels =  np.array(list(labels[ 8:])).astype(np.uint8)"
   ]
  },
  {
   "cell_type": "code",
   "execution_count": 6,
   "metadata": {},
   "outputs": [],
   "source": [
    "inputs = images.reshape(60000, 784)"
   ]
  },
  {
   "cell_type": "code",
   "execution_count": 7,
   "metadata": {},
   "outputs": [
    {
     "name": "stdout",
     "output_type": "stream",
     "text": [
      "[  0   0   0   0   0   0   0   0   0   0   0   0   0   0   0   0   0   0\n",
      "   0   0   0   0   0   0   0   0   0   0   0   0   0   0   0   0   0   0\n",
      "   0   0   0   0   0   0   0   0   0   0   0   0   0   0   0   0   0   0\n",
      "   0   0   0   0   0   0   0   0   0   0   0   0   0   0   0   0   0   0\n",
      "   0   0   0   0   0   0   0   0   0   0   0   0   0   0   0   0   0   0\n",
      "   0   0   0   0   0   0   0   0   0   0   0   0   0   0   0   0   0   0\n",
      "   0   0   0   0   0   0   0   0   0   0   0   0   0   0   0   0   0   0\n",
      "   0   0   0   0   0   0   0   0   0   0   0   0   0   0   0   0   0   0\n",
      "   0   0   0   0   0   0   0   0 253 238 238 238 130 120  81 230  90   1\n",
      "   9 129   0   0   0   0   0   0   0   0   0   0   0   0 226 220 162 102\n",
      "  86   3   3   3   3   3  31  84   3  14  61 192   0   0   0   0   0   0\n",
      "   0   0   0   0   0 207  18   3   3   3   3   3   3   3   3   5 163 174\n",
      " 174 200 217   0   0   0   0   0   0   0   0   0   0   0   0 238  37   3\n",
      "   3   3   3   3  58  74   9  15   0   0   0   0   0   0   0   0   0   0\n",
      "   0   0   0   0   0   0   0   0 176 100 149   3   3  51 245   0 213 102\n",
      "   0   0   0   0   0   0   0   0   0   0   0   0   0   0   0   0   0   0\n",
      "   0 242 255 102   3 166   0   0   0   0   0   0   0   0   0   0   0   0\n",
      "   0   0   0   0   0   0   0   0   0   0   0   0   0 117   3  66 254   0\n",
      "   0   0   0   0   0   0   0   0   0   0   0   0   0   0   0   0   0   0\n",
      "   0   0   0   0   0 245  66   3 186   0   0   0   0   0   0   0   0   0\n",
      "   0   0   0   0   0   0   0   0   0   0   0   0   0   0   0   0 221  15\n",
      "  31  96 148 255   0   0   0   0   0   0   0   0   0   0   0   0   0   0\n",
      "   0   0   0   0   0   0   0   0   0 175  16   3   3 137 231   0   0   0\n",
      "   0   0   0   0   0   0   0   0   0   0   0   0   0   0   0   0   0   0\n",
      "   0   0 211  70   3   3 106 229   0   0   0   0   0   0   0   0   0   0\n",
      "   0   0   0   0   0   0   0   0   0   0   0   0   0 240 163   4   3  69\n",
      "   0   0   0   0   0   0   0   0   0   0   0   0   0   0   0   0   0   0\n",
      "   0   0   0   0   0   0   0   7   3   7 192   0   0   0   0   0   0   0\n",
      "   0   0   0   0   0   0   0   0   0   0   0   0   0   0 210 126  73   3\n",
      "   3  49 254   0   0   0   0   0   0   0   0   0   0   0   0   0   0   0\n",
      "   0   0   0   0 217 108  27   3   3   3   6  74   0   0   0   0   0   0\n",
      "   0   0   0   0   0   0   0   0   0   0   0   0 232 142  35   3   3   3\n",
      "   3  55 178   0   0   0   0   0   0   0   0   0   0   0   0   0   0   0\n",
      "   0   0 233 190  43   3   3   3   3  58 175 254   0   0   0   0   0   0\n",
      "   0   0   0   0   0   0   0   0   0   0 238  85  37   3   3   3   3  61\n",
      " 176 247   0   0   0   0   0   0   0   0   0   0   0   0   0   0   0   0\n",
      " 201  84  30   3   3   3   3  12 123 245   0   0   0   0   0   0   0   0\n",
      "   0   0   0   0   0   0   0   0   0   0 120   3   3   3  44 121 124 240\n",
      "   0   0   0   0   0   0   0   0   0   0   0   0   0   0   0   0   0   0\n",
      "   0   0   0   0   0   0   0   0   0   0   0   0   0   0   0   0   0   0\n",
      "   0   0   0   0   0   0   0   0   0   0   0   0   0   0   0   0   0   0\n",
      "   0   0   0   0   0   0   0   0   0   0   0   0   0   0   0   0   0   0\n",
      "   0   0   0   0   0   0   0   0   0   0   0   0   0   0   0   0   0   0\n",
      "   0   0   0   0   0   0   0   0   0   0]\n",
      "784\n"
     ]
    }
   ],
   "source": [
    "encoder = pre.LabelBinarizer()\n",
    "encoder.fit(labels)\n",
    "outputs = encoder.transform(labels)\n",
    "print(inputs[0])\n",
    "print (inputs[0].size)"
   ]
  },
  {
   "cell_type": "code",
   "execution_count": 8,
   "metadata": {},
   "outputs": [
    {
     "name": "stdout",
     "output_type": "stream",
     "text": [
      "Model: \"sequential_1\"\n",
      "_________________________________________________________________\n",
      "Layer (type)                 Output Shape              Param #   \n",
      "=================================================================\n",
      "dense_1 (Dense)              (None, 1000)              785000    \n",
      "_________________________________________________________________\n",
      "dense_2 (Dense)              (None, 1000)              1001000   \n",
      "_________________________________________________________________\n",
      "dense_3 (Dense)              (None, 10)                10010     \n",
      "=================================================================\n",
      "Total params: 1,796,010\n",
      "Trainable params: 1,796,010\n",
      "Non-trainable params: 0\n",
      "_________________________________________________________________\n"
     ]
    }
   ],
   "source": [
    "model.summary()"
   ]
  },
  {
   "cell_type": "code",
   "execution_count": 9,
   "metadata": {},
   "outputs": [
    {
     "name": "stdout",
     "output_type": "stream",
     "text": [
      "Epoch 1/1\n",
      "60000/60000 [==============================] - 7s 112us/step - loss: 0.9180 - accuracy: 0.6827\n"
     ]
    },
    {
     "data": {
      "text/plain": [
       "<keras.callbacks.callbacks.History at 0x1dd3468be08>"
      ]
     },
     "execution_count": 9,
     "metadata": {},
     "output_type": "execute_result"
    }
   ],
   "source": [
    "##for a later consideration\n",
    "model.fit(inputs, outputs, epochs=1, batch_size=500)"
   ]
  },
  {
   "cell_type": "code",
   "execution_count": 10,
   "metadata": {},
   "outputs": [],
   "source": [
    "##need to then use the test images on the Neural Network...\n",
    "imagesTest  = open('MNIST/t10k-images.idx3-ubyte', 'rb')\n",
    "labelsTest = open('MNIST/t10k-labels.idx1-ubyte', 'rb')\n",
    "testImages = imagesTest.read()\n",
    "testLabels = labelsTest.read()"
   ]
  },
  {
   "cell_type": "code",
   "execution_count": 11,
   "metadata": {},
   "outputs": [
    {
     "data": {
      "text/plain": [
       "bytes"
      ]
     },
     "execution_count": 11,
     "metadata": {},
     "output_type": "execute_result"
    }
   ],
   "source": [
    "type(testImages)"
   ]
  },
  {
   "cell_type": "code",
   "execution_count": 12,
   "metadata": {},
   "outputs": [
    {
     "data": {
      "text/plain": [
       "b'\\x00\\x00\\x08\\x03'"
      ]
     },
     "execution_count": 12,
     "metadata": {},
     "output_type": "execute_result"
    }
   ],
   "source": [
    "testImages[0:4]"
   ]
  },
  {
   "cell_type": "code",
   "execution_count": 13,
   "metadata": {},
   "outputs": [],
   "source": [
    "testImages = (~np.array(list(testImages[16:])).reshape(10000, 28, 28).astype(np.uint8)-255)\n",
    "testLabels =  np.array(list(testLabels[ 8:])).astype(np.uint8)\n",
    "testInputs = testImages.reshape(10000, 784)\n",
    "encoder = pre.LabelBinarizer()\n",
    "encoder.fit(testLabels)\n",
    "testOutputs = encoder.transform(testLabels)"
   ]
  },
  {
   "cell_type": "code",
   "execution_count": 14,
   "metadata": {},
   "outputs": [
    {
     "data": {
      "text/plain": [
       "8270"
      ]
     },
     "execution_count": 14,
     "metadata": {},
     "output_type": "execute_result"
    }
   ],
   "source": [
    "# Have the network predict the classes of the test inputs.\n",
    "predictions = model.predict(testInputs)\n",
    "predictions = encoder.inverse_transform(predictions)\n",
    "##Comparison\n",
    "predictions == encoder.inverse_transform(testOutputs)\n",
    "#check how \n",
    "(predictions == encoder.inverse_transform(testOutputs)).sum()"
   ]
  },
  {
   "cell_type": "code",
   "execution_count": 15,
   "metadata": {},
   "outputs": [
    {
     "data": {
      "text/plain": [
       "array([[2.1487474e-05, 6.8962574e-05, 8.7976456e-05, ..., 6.0859251e-01,\n",
       "        7.7718496e-04, 4.7621131e-03],\n",
       "       [5.1736832e-05, 1.2546778e-04, 2.8753418e-01, ..., 5.2452087e-06,\n",
       "        6.0778856e-04, 2.1934509e-05],\n",
       "       [1.4781952e-05, 2.3712814e-01, 5.1343441e-04, ..., 8.2731247e-05,\n",
       "        9.9778175e-05, 2.8192997e-05],\n",
       "       ...,\n",
       "       [3.4904480e-04, 4.4107437e-06, 9.4890594e-05, ..., 4.2671859e-03,\n",
       "        9.5531344e-04, 2.2676110e-02],\n",
       "       [8.4385276e-04, 3.4183264e-05, 2.4333596e-04, ..., 4.7981739e-06,\n",
       "        3.3618569e-02, 2.3296475e-04],\n",
       "       [6.1509013e-04, 1.4543533e-04, 2.9482067e-02, ..., 7.0035458e-06,\n",
       "        6.1213970e-05, 1.1503696e-05]], dtype=float32)"
      ]
     },
     "execution_count": 15,
     "metadata": {},
     "output_type": "execute_result"
    }
   ],
   "source": [
    "#save the model\n",
    "model.save('savedModel/my_model.h5')\n",
    "##Initial Model finished... flask Next.. will return to this later\n",
    "testInputs = testImages.reshape(10000, 784)\n",
    "model.predict(testInputs)"
   ]
  },
  {
   "cell_type": "code",
   "execution_count": null,
   "metadata": {},
   "outputs": [],
   "source": []
  }
 ],
 "metadata": {
  "kernelspec": {
   "display_name": "Python 3",
   "language": "python",
   "name": "python3"
  },
  "language_info": {
   "codemirror_mode": {
    "name": "ipython",
    "version": 3
   },
   "file_extension": ".py",
   "mimetype": "text/x-python",
   "name": "python",
   "nbconvert_exporter": "python",
   "pygments_lexer": "ipython3",
   "version": "3.7.4"
  }
 },
 "nbformat": 4,
 "nbformat_minor": 2
}
