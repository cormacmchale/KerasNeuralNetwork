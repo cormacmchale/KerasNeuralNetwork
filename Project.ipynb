{
 "cells": [
  {
   "cell_type": "code",
   "execution_count": 16,
   "metadata": {},
   "outputs": [],
   "source": [
    "##Cormac McHale"
   ]
  },
  {
   "cell_type": "code",
   "execution_count": 17,
   "metadata": {},
   "outputs": [],
   "source": [
    "##Training the Neural Network"
   ]
  },
  {
   "cell_type": "code",
   "execution_count": 18,
   "metadata": {},
   "outputs": [],
   "source": [
    "import gzip\n",
    "import sklearn.preprocessing as pre\n",
    "import keras as kr\n",
    "import numpy as np\n",
    "from keras.models import load_model"
   ]
  },
  {
   "cell_type": "code",
   "execution_count": 19,
   "metadata": {},
   "outputs": [],
   "source": [
    "# Start a neural network, building it by layers.\n",
    "model = kr.models.Sequential()\n",
    "\n",
    "# Add a hidden layer with 1000 neurons and an input layer with 784.\n",
    "model.add(kr.layers.Dense(units=1000, activation='sigmoid', input_dim=784))\n",
    "model.add(kr.layers.Dense(units=1000, activation='relu'))\n",
    "# Add a 10 neuron output layer for each digit??\n",
    "model.add(kr.layers.Dense(units=10, activation='softmax'))\n",
    "\n",
    "# Build the graph.\n",
    "model.compile(loss='categorical_crossentropy', optimizer='adam', metrics=['accuracy'])"
   ]
  },
  {
   "cell_type": "code",
   "execution_count": 20,
   "metadata": {},
   "outputs": [],
   "source": [
    "##file reading and formatting\n",
    "imagesFile  = open('MNIST/train-images.idx3-ubyte', 'rb')\n",
    "labelsFile = open('MNIST/train-labels.idx1-ubyte', 'rb')\n",
    "images = imagesFile.read()\n",
    "labels = labelsFile.read()\n",
    "images = (~np.array(list(images[16:])).reshape(60000, 28, 28).astype(np.uint8)-255)\n",
    "labels =  np.array(list(labels[ 8:])).astype(np.uint8)"
   ]
  },
  {
   "cell_type": "code",
   "execution_count": 21,
   "metadata": {},
   "outputs": [],
   "source": [
    "inputs = images.reshape(60000, 784)"
   ]
  },
  {
   "cell_type": "code",
   "execution_count": 22,
   "metadata": {},
   "outputs": [
    {
     "name": "stdout",
     "output_type": "stream",
     "text": [
      "[  0   0   0   0   0   0   0   0   0   0   0   0   0   0   0   0   0   0\n",
      "   0   0   0   0   0   0   0   0   0   0   0   0   0   0   0   0   0   0\n",
      "   0   0   0   0   0   0   0   0   0   0   0   0   0   0   0   0   0   0\n",
      "   0   0   0   0   0   0   0   0   0   0   0   0   0   0   0   0   0   0\n",
      "   0   0   0   0   0   0   0   0   0   0   0   0   0   0   0   0   0   0\n",
      "   0   0   0   0   0   0   0   0   0   0   0   0   0   0   0   0   0   0\n",
      "   0   0   0   0   0   0   0   0   0   0   0   0   0   0   0   0   0   0\n",
      "   0   0   0   0   0   0   0   0   0   0   0   0   0   0   0   0   0   0\n",
      "   0   0   0   0   0   0   0   0 253 238 238 238 130 120  81 230  90   1\n",
      "   9 129   0   0   0   0   0   0   0   0   0   0   0   0 226 220 162 102\n",
      "  86   3   3   3   3   3  31  84   3  14  61 192   0   0   0   0   0   0\n",
      "   0   0   0   0   0 207  18   3   3   3   3   3   3   3   3   5 163 174\n",
      " 174 200 217   0   0   0   0   0   0   0   0   0   0   0   0 238  37   3\n",
      "   3   3   3   3  58  74   9  15   0   0   0   0   0   0   0   0   0   0\n",
      "   0   0   0   0   0   0   0   0 176 100 149   3   3  51 245   0 213 102\n",
      "   0   0   0   0   0   0   0   0   0   0   0   0   0   0   0   0   0   0\n",
      "   0 242 255 102   3 166   0   0   0   0   0   0   0   0   0   0   0   0\n",
      "   0   0   0   0   0   0   0   0   0   0   0   0   0 117   3  66 254   0\n",
      "   0   0   0   0   0   0   0   0   0   0   0   0   0   0   0   0   0   0\n",
      "   0   0   0   0   0 245  66   3 186   0   0   0   0   0   0   0   0   0\n",
      "   0   0   0   0   0   0   0   0   0   0   0   0   0   0   0   0 221  15\n",
      "  31  96 148 255   0   0   0   0   0   0   0   0   0   0   0   0   0   0\n",
      "   0   0   0   0   0   0   0   0   0 175  16   3   3 137 231   0   0   0\n",
      "   0   0   0   0   0   0   0   0   0   0   0   0   0   0   0   0   0   0\n",
      "   0   0 211  70   3   3 106 229   0   0   0   0   0   0   0   0   0   0\n",
      "   0   0   0   0   0   0   0   0   0   0   0   0   0 240 163   4   3  69\n",
      "   0   0   0   0   0   0   0   0   0   0   0   0   0   0   0   0   0   0\n",
      "   0   0   0   0   0   0   0   7   3   7 192   0   0   0   0   0   0   0\n",
      "   0   0   0   0   0   0   0   0   0   0   0   0   0   0 210 126  73   3\n",
      "   3  49 254   0   0   0   0   0   0   0   0   0   0   0   0   0   0   0\n",
      "   0   0   0   0 217 108  27   3   3   3   6  74   0   0   0   0   0   0\n",
      "   0   0   0   0   0   0   0   0   0   0   0   0 232 142  35   3   3   3\n",
      "   3  55 178   0   0   0   0   0   0   0   0   0   0   0   0   0   0   0\n",
      "   0   0 233 190  43   3   3   3   3  58 175 254   0   0   0   0   0   0\n",
      "   0   0   0   0   0   0   0   0   0   0 238  85  37   3   3   3   3  61\n",
      " 176 247   0   0   0   0   0   0   0   0   0   0   0   0   0   0   0   0\n",
      " 201  84  30   3   3   3   3  12 123 245   0   0   0   0   0   0   0   0\n",
      "   0   0   0   0   0   0   0   0   0   0 120   3   3   3  44 121 124 240\n",
      "   0   0   0   0   0   0   0   0   0   0   0   0   0   0   0   0   0   0\n",
      "   0   0   0   0   0   0   0   0   0   0   0   0   0   0   0   0   0   0\n",
      "   0   0   0   0   0   0   0   0   0   0   0   0   0   0   0   0   0   0\n",
      "   0   0   0   0   0   0   0   0   0   0   0   0   0   0   0   0   0   0\n",
      "   0   0   0   0   0   0   0   0   0   0   0   0   0   0   0   0   0   0\n",
      "   0   0   0   0   0   0   0   0   0   0]\n",
      "784\n"
     ]
    }
   ],
   "source": [
    "encoder = pre.LabelBinarizer()\n",
    "encoder.fit(labels)\n",
    "outputs = encoder.transform(labels)\n",
    "print(inputs[0])\n",
    "print (inputs[0].size)"
   ]
  },
  {
   "cell_type": "code",
   "execution_count": 23,
   "metadata": {},
   "outputs": [
    {
     "name": "stdout",
     "output_type": "stream",
     "text": [
      "Model: \"sequential_2\"\n",
      "_________________________________________________________________\n",
      "Layer (type)                 Output Shape              Param #   \n",
      "=================================================================\n",
      "dense_4 (Dense)              (None, 1000)              785000    \n",
      "_________________________________________________________________\n",
      "dense_5 (Dense)              (None, 1000)              1001000   \n",
      "_________________________________________________________________\n",
      "dense_6 (Dense)              (None, 10)                10010     \n",
      "=================================================================\n",
      "Total params: 1,796,010\n",
      "Trainable params: 1,796,010\n",
      "Non-trainable params: 0\n",
      "_________________________________________________________________\n"
     ]
    }
   ],
   "source": [
    "model.summary()"
   ]
  },
  {
   "cell_type": "code",
   "execution_count": 24,
   "metadata": {},
   "outputs": [
    {
     "name": "stdout",
     "output_type": "stream",
     "text": [
      "Epoch 1/10\n",
      "60000/60000 [==============================] - 45s 751us/step - loss: 0.7076 - accuracy: 0.7721\n",
      "Epoch 2/10\n",
      "60000/60000 [==============================] - 44s 735us/step - loss: 0.4970 - accuracy: 0.8380\n",
      "Epoch 3/10\n",
      "60000/60000 [==============================] - 40s 673us/step - loss: 0.4343 - accuracy: 0.8572\n",
      "Epoch 4/10\n",
      "60000/60000 [==============================] - 40s 671us/step - loss: 0.3991 - accuracy: 0.8689\n",
      "Epoch 5/10\n",
      "60000/60000 [==============================] - 40s 671us/step - loss: 0.3643 - accuracy: 0.8797\n",
      "Epoch 6/10\n",
      "60000/60000 [==============================] - 41s 679us/step - loss: 0.3408 - accuracy: 0.8880\n",
      "Epoch 7/10\n",
      "60000/60000 [==============================] - 36s 595us/step - loss: 0.3217 - accuracy: 0.8931\n",
      "Epoch 8/10\n",
      "60000/60000 [==============================] - 38s 627us/step - loss: 0.3055 - accuracy: 0.8983\n",
      "Epoch 9/10\n",
      "60000/60000 [==============================] - 36s 594us/step - loss: 0.2854 - accuracy: 0.9048\n",
      "Epoch 10/10\n",
      "60000/60000 [==============================] - 36s 606us/step - loss: 0.2716 - accuracy: 0.9098\n"
     ]
    },
    {
     "data": {
      "text/plain": [
       "<keras.callbacks.callbacks.History at 0x12102f2ba88>"
      ]
     },
     "execution_count": 24,
     "metadata": {},
     "output_type": "execute_result"
    }
   ],
   "source": [
    "##for a later consideration\n",
    "model.fit(inputs, outputs, epochs=10, batch_size=50)"
   ]
  },
  {
   "cell_type": "code",
   "execution_count": 25,
   "metadata": {},
   "outputs": [],
   "source": [
    "##need to then use the test images on the Neural Network...\n",
    "imagesTest  = open('MNIST/t10k-images.idx3-ubyte', 'rb')\n",
    "labelsTest = open('MNIST/t10k-labels.idx1-ubyte', 'rb')\n",
    "testImages = imagesTest.read()\n",
    "testLabels = labelsTest.read()"
   ]
  },
  {
   "cell_type": "code",
   "execution_count": 26,
   "metadata": {},
   "outputs": [
    {
     "data": {
      "text/plain": [
       "bytes"
      ]
     },
     "execution_count": 26,
     "metadata": {},
     "output_type": "execute_result"
    }
   ],
   "source": [
    "type(testImages)"
   ]
  },
  {
   "cell_type": "code",
   "execution_count": 27,
   "metadata": {},
   "outputs": [
    {
     "data": {
      "text/plain": [
       "b'\\x00\\x00\\x08\\x03'"
      ]
     },
     "execution_count": 27,
     "metadata": {},
     "output_type": "execute_result"
    }
   ],
   "source": [
    "testImages[0:4]"
   ]
  },
  {
   "cell_type": "code",
   "execution_count": 28,
   "metadata": {},
   "outputs": [],
   "source": [
    "testImages = (~np.array(list(testImages[16:])).reshape(10000, 28, 28).astype(np.uint8)-255)\n",
    "testLabels =  np.array(list(testLabels[ 8:])).astype(np.uint8)\n",
    "testInputs = testImages.reshape(10000, 784)\n",
    "encoder = pre.LabelBinarizer()\n",
    "encoder.fit(testLabels)\n",
    "testOutputs = encoder.transform(testLabels)"
   ]
  },
  {
   "cell_type": "code",
   "execution_count": 29,
   "metadata": {},
   "outputs": [
    {
     "data": {
      "text/plain": [
       "8870"
      ]
     },
     "execution_count": 29,
     "metadata": {},
     "output_type": "execute_result"
    }
   ],
   "source": [
    "# Have the network predict the classes of the test inputs.\n",
    "predictions = model.predict(testInputs)\n",
    "predictions = encoder.inverse_transform(predictions)\n",
    "##Comparison\n",
    "predictions == encoder.inverse_transform(testOutputs)\n",
    "#check how \n",
    "(predictions == encoder.inverse_transform(testOutputs)).sum()"
   ]
  },
  {
   "cell_type": "code",
   "execution_count": 30,
   "metadata": {},
   "outputs": [
    {
     "data": {
      "text/plain": [
       "array([[8.1317737e-08, 6.3633900e-07, 3.6016488e-06, ..., 9.9986827e-01,\n",
       "        1.1300142e-08, 9.8354460e-05],\n",
       "       [2.0015520e-08, 3.5461603e-04, 9.9961972e-01, ..., 3.1117079e-06,\n",
       "        5.2321320e-07, 1.0097258e-08],\n",
       "       [8.2495308e-06, 9.9966872e-01, 1.4694660e-05, ..., 1.3712861e-05,\n",
       "        1.4751977e-05, 7.7963668e-06],\n",
       "       ...,\n",
       "       [1.6262877e-05, 1.9834299e-06, 2.6973375e-05, ..., 3.0618645e-02,\n",
       "        7.2611560e-04, 4.9763545e-02],\n",
       "       [2.4395786e-07, 8.1525329e-08, 1.5689712e-07, ..., 2.2427669e-07,\n",
       "        2.3234286e-03, 2.8972443e-06],\n",
       "       [3.0245654e-05, 1.3116794e-04, 8.5906947e-01, ..., 1.0586177e-08,\n",
       "        2.7415497e-04, 5.0099840e-07]], dtype=float32)"
      ]
     },
     "execution_count": 30,
     "metadata": {},
     "output_type": "execute_result"
    }
   ],
   "source": [
    "#save the model\n",
    "model.save('savedModel/my_model.h5')\n",
    "##Initial Model finished... flask Next.. will return to this later\n",
    "testInputs = testImages.reshape(10000, 784)\n",
    "model.predict(testInputs)"
   ]
  },
  {
   "cell_type": "code",
   "execution_count": null,
   "metadata": {},
   "outputs": [],
   "source": [
    "##Model complete"
   ]
  }
 ],
 "metadata": {
  "kernelspec": {
   "display_name": "Python 3",
   "language": "python",
   "name": "python3"
  },
  "language_info": {
   "codemirror_mode": {
    "name": "ipython",
    "version": 3
   },
   "file_extension": ".py",
   "mimetype": "text/x-python",
   "name": "python",
   "nbconvert_exporter": "python",
   "pygments_lexer": "ipython3",
   "version": "3.7.4"
  }
 },
 "nbformat": 4,
 "nbformat_minor": 2
}
