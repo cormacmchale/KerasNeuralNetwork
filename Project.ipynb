{
 "cells": [
  {
   "cell_type": "code",
   "execution_count": 1,
   "metadata": {},
   "outputs": [],
   "source": [
    "##Cormac McHale"
   ]
  },
  {
   "cell_type": "code",
   "execution_count": 2,
   "metadata": {},
   "outputs": [],
   "source": [
    "##Training the Neural Network"
   ]
  },
  {
   "cell_type": "code",
   "execution_count": 3,
   "metadata": {},
   "outputs": [
    {
     "name": "stderr",
     "output_type": "stream",
     "text": [
      "Using TensorFlow backend.\n"
     ]
    }
   ],
   "source": [
    "import gzip\n",
    "import sklearn.preprocessing as pre\n",
    "import keras as kr\n",
    "import numpy as np\n",
    "from keras.models import load_model"
   ]
  },
  {
   "cell_type": "code",
   "execution_count": 4,
   "metadata": {},
   "outputs": [],
   "source": [
    "# Start a neural network, building it by layers.\n",
    "model = kr.models.Sequential()\n",
    "\n",
    "# Add a hidden layer with 1000 neurons and an input layer with 784.\n",
    "model.add(kr.layers.Dense(units=1000, activation='relu', input_dim=784))\n",
    "model.add(kr.layers.Dense(units=100, activation='sigmoid'))\n",
    "model.add(kr.layers.Dense(units=1000, activation='relu'))\n",
    "# Add a 10 neuron output layer for each digit??\n",
    "model.add(kr.layers.Dense(units=10, activation='softmax'))\n",
    "\n",
    "# Build the graph.\n",
    "model.compile(loss='categorical_crossentropy', optimizer='adam', metrics=['accuracy'])"
   ]
  },
  {
   "cell_type": "code",
   "execution_count": 5,
   "metadata": {},
   "outputs": [],
   "source": [
    "##file reading and formatting\n",
    "imagesFile  = open('MNIST/train-images.idx3-ubyte', 'rb')\n",
    "labelsFile = open('MNIST/train-labels.idx1-ubyte', 'rb')\n",
    "images = imagesFile.read()\n",
    "labels = labelsFile.read()\n",
    "images =  (~np.array(list(images[16:])).reshape(60000, 28, 28).astype(np.uint8)-255)\n",
    "labels =  np.array(list(labels[ 8:])).astype(np.uint8)"
   ]
  },
  {
   "cell_type": "code",
   "execution_count": 6,
   "metadata": {},
   "outputs": [],
   "source": [
    "inputs = images.reshape(60000, 784)\n",
    "inputs[inputs>0] = 40\n",
    "inputs[inputs<1] = 0 "
   ]
  },
  {
   "cell_type": "code",
   "execution_count": 7,
   "metadata": {},
   "outputs": [],
   "source": [
    "encoder = pre.LabelBinarizer()\n",
    "encoder.fit(labels)\n",
    "outputs = encoder.transform(labels)\n",
    "#just for looking\n",
    "#print(inputs[0])\n",
    "#print (inputs[0].size)"
   ]
  },
  {
   "cell_type": "code",
   "execution_count": 8,
   "metadata": {},
   "outputs": [
    {
     "name": "stdout",
     "output_type": "stream",
     "text": [
      "Model: \"sequential_1\"\n",
      "_________________________________________________________________\n",
      "Layer (type)                 Output Shape              Param #   \n",
      "=================================================================\n",
      "dense_1 (Dense)              (None, 1000)              785000    \n",
      "_________________________________________________________________\n",
      "dense_2 (Dense)              (None, 100)               100100    \n",
      "_________________________________________________________________\n",
      "dense_3 (Dense)              (None, 1000)              101000    \n",
      "_________________________________________________________________\n",
      "dense_4 (Dense)              (None, 10)                10010     \n",
      "=================================================================\n",
      "Total params: 996,110\n",
      "Trainable params: 996,110\n",
      "Non-trainable params: 0\n",
      "_________________________________________________________________\n"
     ]
    }
   ],
   "source": [
    "model.summary()"
   ]
  },
  {
   "cell_type": "code",
   "execution_count": 9,
   "metadata": {},
   "outputs": [
    {
     "name": "stdout",
     "output_type": "stream",
     "text": [
      "Epoch 1/5\n",
      "60000/60000 [==============================] - 11s 189us/step - loss: 0.3825 - accuracy: 0.8871\n",
      "Epoch 2/5\n",
      "60000/60000 [==============================] - 11s 178us/step - loss: 0.2202 - accuracy: 0.9326\n",
      "Epoch 3/5\n",
      "60000/60000 [==============================] - 11s 183us/step - loss: 0.1782 - accuracy: 0.9447\n",
      "Epoch 4/5\n",
      "60000/60000 [==============================] - 11s 179us/step - loss: 0.1421 - accuracy: 0.9569\n",
      "Epoch 5/5\n",
      "60000/60000 [==============================] - 11s 181us/step - loss: 0.1310 - accuracy: 0.9600\n"
     ]
    },
    {
     "data": {
      "text/plain": [
       "<keras.callbacks.callbacks.History at 0x1f9b19e07c8>"
      ]
     },
     "execution_count": 9,
     "metadata": {},
     "output_type": "execute_result"
    }
   ],
   "source": [
    "##change later to test\n",
    "model.fit(inputs, outputs, epochs=5, batch_size=150)"
   ]
  },
  {
   "cell_type": "code",
   "execution_count": 10,
   "metadata": {},
   "outputs": [],
   "source": [
    "##need to then use the test images on the Neural Network...\n",
    "imagesTest  = open('MNIST/t10k-images.idx3-ubyte', 'rb')\n",
    "labelsTest = open('MNIST/t10k-labels.idx1-ubyte', 'rb')\n",
    "testImages = imagesTest.read()\n",
    "testLabels = labelsTest.read()"
   ]
  },
  {
   "cell_type": "code",
   "execution_count": 11,
   "metadata": {},
   "outputs": [
    {
     "data": {
      "text/plain": [
       "bytes"
      ]
     },
     "execution_count": 11,
     "metadata": {},
     "output_type": "execute_result"
    }
   ],
   "source": [
    "type(testImages)"
   ]
  },
  {
   "cell_type": "code",
   "execution_count": 12,
   "metadata": {},
   "outputs": [
    {
     "data": {
      "text/plain": [
       "b'\\x00\\x00\\x08\\x03'"
      ]
     },
     "execution_count": 12,
     "metadata": {},
     "output_type": "execute_result"
    }
   ],
   "source": [
    "testImages[0:4]"
   ]
  },
  {
   "cell_type": "code",
   "execution_count": 13,
   "metadata": {},
   "outputs": [],
   "source": [
    "testImages = (~np.array(list(testImages[16:])).reshape(10000, 28, 28).astype(np.uint8)-255)\n",
    "testLabels =  np.array(list(testLabels[ 8:])).astype(np.uint8)\n",
    "testInputs = testImages.reshape(10000, 784)\n",
    "encoder = pre.LabelBinarizer()\n",
    "encoder.fit(testLabels)\n",
    "testOutputs = encoder.transform(testLabels)"
   ]
  },
  {
   "cell_type": "code",
   "execution_count": 14,
   "metadata": {},
   "outputs": [
    {
     "data": {
      "text/plain": [
       "7196"
      ]
     },
     "execution_count": 14,
     "metadata": {},
     "output_type": "execute_result"
    }
   ],
   "source": [
    "# Have the network predict the classes of the test inputs.\n",
    "predictions = model.predict(testInputs)\n",
    "predictions = encoder.inverse_transform(predictions)\n",
    "##Comparison\n",
    "predictions == encoder.inverse_transform(testOutputs)\n",
    "#check how \n",
    "(predictions == encoder.inverse_transform(testOutputs)).sum()"
   ]
  },
  {
   "cell_type": "code",
   "execution_count": 15,
   "metadata": {},
   "outputs": [
    {
     "data": {
      "text/plain": [
       "array([[2.27964529e-06, 1.89340572e-05, 2.06188088e-05, ...,\n",
       "        9.99869108e-01, 7.54411758e-07, 7.32124099e-05],\n",
       "       [9.23021215e-09, 1.64814980e-03, 9.98258412e-01, ...,\n",
       "        3.79524608e-05, 8.89944022e-06, 1.89586480e-08],\n",
       "       [1.23481811e-06, 9.99602139e-01, 1.25902316e-05, ...,\n",
       "        2.06011773e-05, 2.80652923e-04, 5.46228875e-06],\n",
       "       ...,\n",
       "       [1.75650388e-01, 1.15715840e-04, 1.99300447e-03, ...,\n",
       "        1.13449795e-02, 1.71350874e-02, 7.77535558e-01],\n",
       "       [2.66626070e-04, 3.81777133e-03, 5.20698195e-05, ...,\n",
       "        4.33714558e-05, 2.96349004e-02, 7.19612115e-04],\n",
       "       [7.25531281e-05, 4.71758004e-03, 9.59660769e-01, ...,\n",
       "        2.05620599e-04, 1.00115594e-02, 6.43830754e-06]], dtype=float32)"
      ]
     },
     "execution_count": 15,
     "metadata": {},
     "output_type": "execute_result"
    }
   ],
   "source": [
    "#save the model\n",
    "model.save('savedModel/my_model.h5')\n",
    "##Initial Model finished... flask Next.. will return to this later\n",
    "testInputs = testImages.reshape(10000, 784)\n",
    "model.predict(testInputs)"
   ]
  },
  {
   "cell_type": "code",
   "execution_count": 16,
   "metadata": {},
   "outputs": [],
   "source": [
    "##Model complete"
   ]
  },
  {
   "cell_type": "code",
   "execution_count": 17,
   "metadata": {},
   "outputs": [],
   "source": [
    "##Re-train with an extra layer"
   ]
  },
  {
   "cell_type": "code",
   "execution_count": 18,
   "metadata": {},
   "outputs": [
    {
     "data": {
      "text/plain": [
       "keras.engine.sequential.Sequential"
      ]
     },
     "execution_count": 18,
     "metadata": {},
     "output_type": "execute_result"
    }
   ],
   "source": [
    "type(model)"
   ]
  },
  {
   "cell_type": "code",
   "execution_count": 19,
   "metadata": {},
   "outputs": [],
   "source": [
    "fineTune = kr.models.Sequential()\n",
    "for layer in model.layers:\n",
    "    fineTune.add(layer)\n",
    "for layer in fineTune.layers:\n",
    "    layer.trainable = False"
   ]
  },
  {
   "cell_type": "code",
   "execution_count": 20,
   "metadata": {},
   "outputs": [],
   "source": [
    "fineTune.add(kr.layers.Dense(units=10, activation='sigmoid'))"
   ]
  },
  {
   "cell_type": "code",
   "execution_count": 21,
   "metadata": {},
   "outputs": [],
   "source": [
    "inputs[inputs>0] = 1\n",
    "testInputs[testInputs>0] = 1"
   ]
  },
  {
   "cell_type": "code",
   "execution_count": 22,
   "metadata": {},
   "outputs": [
    {
     "name": "stdout",
     "output_type": "stream",
     "text": [
      "Epoch 1/10\n",
      "60000/60000 [==============================] - 5s 77us/step - loss: 0.3942 - accuracy: 0.9031\n",
      "Epoch 2/10\n",
      "60000/60000 [==============================] - 4s 72us/step - loss: 0.1604 - accuracy: 0.9845\n",
      "Epoch 3/10\n",
      "60000/60000 [==============================] - 4s 72us/step - loss: 0.0927 - accuracy: 0.9901\n",
      "Epoch 4/10\n",
      "60000/60000 [==============================] - 4s 72us/step - loss: 0.0620 - accuracy: 0.9912\n",
      "Epoch 5/10\n",
      "60000/60000 [==============================] - 5s 76us/step - loss: 0.0457 - accuracy: 0.9918\n",
      "Epoch 6/10\n",
      "60000/60000 [==============================] - 4s 70us/step - loss: 0.0364 - accuracy: 0.9922\n",
      "Epoch 7/10\n",
      "60000/60000 [==============================] - 4s 68us/step - loss: 0.0310 - accuracy: 0.9925\n",
      "Epoch 8/10\n",
      "60000/60000 [==============================] - 4s 70us/step - loss: 0.0278 - accuracy: 0.9927\n",
      "Epoch 9/10\n",
      "60000/60000 [==============================] - 4s 70us/step - loss: 0.0260 - accuracy: 0.9929\n",
      "Epoch 10/10\n",
      "60000/60000 [==============================] - 4s 74us/step - loss: 0.0248 - accuracy: 0.9930\n"
     ]
    },
    {
     "data": {
      "text/plain": [
       "<keras.callbacks.callbacks.History at 0x1f9c6382d88>"
      ]
     },
     "execution_count": 22,
     "metadata": {},
     "output_type": "execute_result"
    }
   ],
   "source": [
    "fineTune.compile(loss='binary_crossentropy', optimizer='adam', metrics=['accuracy'])\n",
    "fineTune.fit(inputs, outputs, epochs=10, batch_size=50)"
   ]
  },
  {
   "cell_type": "code",
   "execution_count": 23,
   "metadata": {},
   "outputs": [
    {
     "data": {
      "text/plain": [
       "9596"
      ]
     },
     "execution_count": 23,
     "metadata": {},
     "output_type": "execute_result"
    }
   ],
   "source": [
    "# Have the network predict the classes of the test inputs.\n",
    "predictions = fineTune.predict(testInputs)\n",
    "predictions = encoder.inverse_transform(predictions)\n",
    "##Comparison\n",
    "predictions == encoder.inverse_transform(testOutputs)\n",
    "#check how \n",
    "(predictions == encoder.inverse_transform(testOutputs)).sum()"
   ]
  },
  {
   "cell_type": "code",
   "execution_count": 24,
   "metadata": {},
   "outputs": [],
   "source": [
    "#Results\n",
    "#save new model\n",
    "fineTune.save('savedModel/freshlyTrained.h5')\n",
    "#test in client"
   ]
  },
  {
   "cell_type": "code",
   "execution_count": null,
   "metadata": {},
   "outputs": [],
   "source": []
  }
 ],
 "metadata": {
  "kernelspec": {
   "display_name": "Python 3",
   "language": "python",
   "name": "python3"
  },
  "language_info": {
   "codemirror_mode": {
    "name": "ipython",
    "version": 3
   },
   "file_extension": ".py",
   "mimetype": "text/x-python",
   "name": "python",
   "nbconvert_exporter": "python",
   "pygments_lexer": "ipython3",
   "version": "3.7.4"
  }
 },
 "nbformat": 4,
 "nbformat_minor": 2
}
