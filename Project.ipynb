{
 "cells": [
  {
   "cell_type": "code",
   "execution_count": 1,
   "metadata": {},
   "outputs": [],
   "source": [
    "##Cormac McHale"
   ]
  },
  {
   "cell_type": "code",
   "execution_count": 2,
   "metadata": {},
   "outputs": [],
   "source": [
    "##Training the Neural Network"
   ]
  },
  {
   "cell_type": "code",
   "execution_count": 3,
   "metadata": {},
   "outputs": [
    {
     "name": "stderr",
     "output_type": "stream",
     "text": [
      "Using TensorFlow backend.\n"
     ]
    }
   ],
   "source": [
    "import gzip\n",
    "import sklearn.preprocessing as pre\n",
    "import keras as kr\n",
    "import numpy as np\n",
    "from keras.models import load_model"
   ]
  },
  {
   "cell_type": "code",
   "execution_count": 4,
   "metadata": {},
   "outputs": [],
   "source": [
    "# Start a neural network, building it by layers.\n",
    "model = kr.models.Sequential()\n",
    "\n",
    "# Add a hidden layer with 1000 neurons and an input layer with 784.\n",
    "model.add(kr.layers.Dense(units=1000, activation='relu', input_dim=784))\n",
    "#model.add(kr.layers.Dense(units=100, activation='sigmoid'))\n",
    "model.add(kr.layers.Dense(units=1000, activation='relu'))\n",
    "# Add a 10 neuron output layer for each digit??\n",
    "model.add(kr.layers.Dense(units=10, activation='softmax'))\n",
    "\n",
    "# Build the graph.\n",
    "model.compile(loss='categorical_crossentropy', optimizer='adam', metrics=['accuracy'])"
   ]
  },
  {
   "cell_type": "code",
   "execution_count": 5,
   "metadata": {},
   "outputs": [],
   "source": [
    "##file reading and formatting\n",
    "imagesFile  = open('MNIST/train-images.idx3-ubyte', 'rb')\n",
    "labelsFile = open('MNIST/train-labels.idx1-ubyte', 'rb')\n",
    "images = imagesFile.read()\n",
    "labels = labelsFile.read()\n",
    "images =  (~np.array(list(images[16:])).reshape(60000, 28, 28).astype(np.uint8)-255)\n",
    "labels =  np.array(list(labels[ 8:])).astype(np.uint8)"
   ]
  },
  {
   "cell_type": "code",
   "execution_count": 6,
   "metadata": {},
   "outputs": [],
   "source": [
    "inputs = images.reshape(60000, 784)\n",
    "inputs[inputs>0] = 1\n",
    "inputs[inputs<1] = 0 "
   ]
  },
  {
   "cell_type": "code",
   "execution_count": 7,
   "metadata": {},
   "outputs": [
    {
     "name": "stdout",
     "output_type": "stream",
     "text": [
      "[0 0 0 0 0 0 0 0 0 0 0 0 0 0 0 0 0 0 0 0 0 0 0 0 0 0 0 0 0 0 0 0 0 0 0 0 0\n",
      " 0 0 0 0 0 0 0 0 0 0 0 0 0 0 0 0 0 0 0 0 0 0 0 0 0 0 0 0 0 0 0 0 0 0 0 0 0\n",
      " 0 0 0 0 0 0 0 0 0 0 0 0 0 0 0 0 0 0 0 0 0 0 0 0 0 0 0 0 0 0 0 0 0 0 0 0 0\n",
      " 0 0 0 0 0 0 0 0 0 0 0 0 0 0 0 0 0 0 0 0 0 0 0 0 0 0 0 0 0 0 0 0 0 0 0 0 0\n",
      " 0 0 0 0 1 1 1 1 1 1 1 1 1 1 1 1 0 0 0 0 0 0 0 0 0 0 0 0 1 1 1 1 1 1 1 1 1\n",
      " 1 1 1 1 1 1 1 0 0 0 0 0 0 0 0 0 0 0 1 1 1 1 1 1 1 1 1 1 1 1 1 1 1 1 0 0 0\n",
      " 0 0 0 0 0 0 0 0 0 1 1 1 1 1 1 1 1 1 1 1 0 0 0 0 0 0 0 0 0 0 0 0 0 0 0 0 0\n",
      " 0 1 1 1 1 1 1 1 0 1 1 0 0 0 0 0 0 0 0 0 0 0 0 0 0 0 0 0 0 0 1 1 1 1 1 0 0\n",
      " 0 0 0 0 0 0 0 0 0 0 0 0 0 0 0 0 0 0 0 0 0 0 0 1 1 1 1 0 0 0 0 0 0 0 0 0 0\n",
      " 0 0 0 0 0 0 0 0 0 0 0 0 0 0 1 1 1 1 0 0 0 0 0 0 0 0 0 0 0 0 0 0 0 0 0 0 0\n",
      " 0 0 0 0 0 0 1 1 1 1 1 1 0 0 0 0 0 0 0 0 0 0 0 0 0 0 0 0 0 0 0 0 0 0 0 1 1\n",
      " 1 1 1 1 0 0 0 0 0 0 0 0 0 0 0 0 0 0 0 0 0 0 0 0 0 0 0 1 1 1 1 1 1 0 0 0 0\n",
      " 0 0 0 0 0 0 0 0 0 0 0 0 0 0 0 0 0 0 0 1 1 1 1 1 0 0 0 0 0 0 0 0 0 0 0 0 0\n",
      " 0 0 0 0 0 0 0 0 0 0 0 0 1 1 1 1 0 0 0 0 0 0 0 0 0 0 0 0 0 0 0 0 0 0 0 0 0\n",
      " 1 1 1 1 1 1 1 0 0 0 0 0 0 0 0 0 0 0 0 0 0 0 0 0 0 0 1 1 1 1 1 1 1 1 0 0 0\n",
      " 0 0 0 0 0 0 0 0 0 0 0 0 0 0 0 1 1 1 1 1 1 1 1 1 0 0 0 0 0 0 0 0 0 0 0 0 0\n",
      " 0 0 0 0 1 1 1 1 1 1 1 1 1 1 0 0 0 0 0 0 0 0 0 0 0 0 0 0 0 0 1 1 1 1 1 1 1\n",
      " 1 1 1 0 0 0 0 0 0 0 0 0 0 0 0 0 0 0 0 1 1 1 1 1 1 1 1 1 1 0 0 0 0 0 0 0 0\n",
      " 0 0 0 0 0 0 0 0 0 0 1 1 1 1 1 1 1 1 0 0 0 0 0 0 0 0 0 0 0 0 0 0 0 0 0 0 0\n",
      " 0 0 0 0 0 0 0 0 0 0 0 0 0 0 0 0 0 0 0 0 0 0 0 0 0 0 0 0 0 0 0 0 0 0 0 0 0\n",
      " 0 0 0 0 0 0 0 0 0 0 0 0 0 0 0 0 0 0 0 0 0 0 0 0 0 0 0 0 0 0 0 0 0 0 0 0 0\n",
      " 0 0 0 0 0 0 0]\n"
     ]
    }
   ],
   "source": [
    "encoder = pre.LabelBinarizer()\n",
    "encoder.fit(labels)\n",
    "outputs = encoder.transform(labels)\n",
    "#just for looking\n",
    "print(inputs[0])\n",
    "#print (inputs[0].size)"
   ]
  },
  {
   "cell_type": "code",
   "execution_count": 8,
   "metadata": {},
   "outputs": [
    {
     "name": "stdout",
     "output_type": "stream",
     "text": [
      "Model: \"sequential_1\"\n",
      "_________________________________________________________________\n",
      "Layer (type)                 Output Shape              Param #   \n",
      "=================================================================\n",
      "dense_1 (Dense)              (None, 1000)              785000    \n",
      "_________________________________________________________________\n",
      "dense_2 (Dense)              (None, 1000)              1001000   \n",
      "_________________________________________________________________\n",
      "dense_3 (Dense)              (None, 10)                10010     \n",
      "=================================================================\n",
      "Total params: 1,796,010\n",
      "Trainable params: 1,796,010\n",
      "Non-trainable params: 0\n",
      "_________________________________________________________________\n"
     ]
    }
   ],
   "source": [
    "model.summary()"
   ]
  },
  {
   "cell_type": "code",
   "execution_count": 9,
   "metadata": {},
   "outputs": [
    {
     "name": "stdout",
     "output_type": "stream",
     "text": [
      "Epoch 1/5\n",
      "60000/60000 [==============================] - 32s 525us/step - loss: 0.2137 - accuracy: 0.9338\n",
      "Epoch 2/5\n",
      "60000/60000 [==============================] - 34s 566us/step - loss: 0.0936 - accuracy: 0.9703\n",
      "Epoch 3/5\n",
      "60000/60000 [==============================] - 37s 623us/step - loss: 0.0604 - accuracy: 0.9801\n",
      "Epoch 4/5\n",
      "60000/60000 [==============================] - 36s 593us/step - loss: 0.0462 - accuracy: 0.9851\n",
      "Epoch 5/5\n",
      "60000/60000 [==============================] - 36s 602us/step - loss: 0.0381 - accuracy: 0.9879\n"
     ]
    },
    {
     "data": {
      "text/plain": [
       "<keras.callbacks.callbacks.History at 0x216b12ee808>"
      ]
     },
     "execution_count": 9,
     "metadata": {},
     "output_type": "execute_result"
    }
   ],
   "source": [
    "##change later to test\n",
    "model.fit(inputs, outputs, epochs=5, batch_size=150)"
   ]
  },
  {
   "cell_type": "code",
   "execution_count": 10,
   "metadata": {},
   "outputs": [],
   "source": [
    "##need to then use the test images on the Neural Network...\n",
    "imagesTest  = open('MNIST/t10k-images.idx3-ubyte', 'rb')\n",
    "labelsTest = open('MNIST/t10k-labels.idx1-ubyte', 'rb')\n",
    "testImages = imagesTest.read()\n",
    "testLabels = labelsTest.read()"
   ]
  },
  {
   "cell_type": "code",
   "execution_count": 11,
   "metadata": {},
   "outputs": [
    {
     "data": {
      "text/plain": [
       "bytes"
      ]
     },
     "execution_count": 11,
     "metadata": {},
     "output_type": "execute_result"
    }
   ],
   "source": [
    "type(testImages)"
   ]
  },
  {
   "cell_type": "code",
   "execution_count": 12,
   "metadata": {},
   "outputs": [
    {
     "data": {
      "text/plain": [
       "b'\\x00\\x00\\x08\\x03'"
      ]
     },
     "execution_count": 12,
     "metadata": {},
     "output_type": "execute_result"
    }
   ],
   "source": [
    "testImages[0:4]"
   ]
  },
  {
   "cell_type": "code",
   "execution_count": 13,
   "metadata": {},
   "outputs": [],
   "source": [
    "testImages = (~np.array(list(testImages[16:])).reshape(10000, 28, 28).astype(np.uint8)-255)\n",
    "#print(testImages[0])\n",
    "testLabels =  np.array(list(testLabels[ 8:])).astype(np.uint8)\n",
    "testInputs = testImages.reshape(10000, 784)\n",
    "testInputs[testInputs>0] = 1\n",
    "testInputs[testInputs<1] = 0 \n",
    "encoder = pre.LabelBinarizer()\n",
    "encoder.fit(testLabels)\n",
    "testOutputs = encoder.transform(testLabels)"
   ]
  },
  {
   "cell_type": "code",
   "execution_count": 14,
   "metadata": {},
   "outputs": [
    {
     "data": {
      "text/plain": [
       "9724"
      ]
     },
     "execution_count": 14,
     "metadata": {},
     "output_type": "execute_result"
    }
   ],
   "source": [
    "# Have the network predict the classes of the test inputs.\n",
    "predictions = model.predict(testInputs)\n",
    "predictions = encoder.inverse_transform(predictions)\n",
    "##Comparison\n",
    "predictions == encoder.inverse_transform(testOutputs)\n",
    "#check how \n",
    "(predictions == encoder.inverse_transform(testOutputs)).sum()"
   ]
  },
  {
   "cell_type": "code",
   "execution_count": 15,
   "metadata": {},
   "outputs": [
    {
     "data": {
      "text/plain": [
       "array([[1.60523622e-10, 2.90806601e-10, 2.84106905e-10, ...,\n",
       "        9.99999881e-01, 4.79152482e-11, 3.16190345e-08],\n",
       "       [3.47990538e-12, 3.69456039e-08, 1.00000000e+00, ...,\n",
       "        2.33420350e-09, 2.73782993e-12, 1.59377431e-14],\n",
       "       [2.09172857e-09, 9.99939203e-01, 1.58410717e-06, ...,\n",
       "        2.68931599e-05, 2.65958697e-05, 4.82768669e-08],\n",
       "       ...,\n",
       "       [3.67554685e-12, 1.55712532e-09, 1.80588877e-11, ...,\n",
       "        2.64769778e-06, 1.16468870e-08, 7.11255916e-06],\n",
       "       [6.73805589e-09, 1.03370121e-08, 2.06534685e-11, ...,\n",
       "        1.22291395e-08, 4.90985367e-05, 2.37469044e-10],\n",
       "       [7.42410862e-07, 7.11848571e-08, 1.94238396e-07, ...,\n",
       "        4.68236006e-10, 1.92289136e-07, 1.97598968e-08]], dtype=float32)"
      ]
     },
     "execution_count": 15,
     "metadata": {},
     "output_type": "execute_result"
    }
   ],
   "source": [
    "#save the model\n",
    "model.save('savedModel/my_model.h5')\n",
    "##Initial Model finished... flask Next.. will return to this later\n",
    "testInputs = testImages.reshape(10000, 784)\n",
    "model.predict(testInputs)"
   ]
  },
  {
   "cell_type": "code",
   "execution_count": 16,
   "metadata": {},
   "outputs": [],
   "source": [
    "##Model complete"
   ]
  },
  {
   "cell_type": "code",
   "execution_count": 17,
   "metadata": {},
   "outputs": [],
   "source": [
    "##Re-train with an extra layer"
   ]
  },
  {
   "cell_type": "code",
   "execution_count": 18,
   "metadata": {},
   "outputs": [
    {
     "data": {
      "text/plain": [
       "keras.engine.sequential.Sequential"
      ]
     },
     "execution_count": 18,
     "metadata": {},
     "output_type": "execute_result"
    }
   ],
   "source": [
    "type(model)"
   ]
  },
  {
   "cell_type": "code",
   "execution_count": 19,
   "metadata": {},
   "outputs": [],
   "source": [
    "fineTune = kr.models.Sequential()\n",
    "for layer in model.layers:\n",
    "    fineTune.add(layer)\n",
    "for layer in fineTune.layers:\n",
    "    layer.trainable = False"
   ]
  },
  {
   "cell_type": "code",
   "execution_count": 20,
   "metadata": {},
   "outputs": [],
   "source": [
    "fineTune.add(kr.layers.Dense(units=10, activation='sigmoid'))"
   ]
  },
  {
   "cell_type": "code",
   "execution_count": 21,
   "metadata": {},
   "outputs": [
    {
     "name": "stdout",
     "output_type": "stream",
     "text": [
      "Epoch 1/10\n",
      "60000/60000 [==============================] - 19s 315us/step - loss: 0.3991 - accuracy: 0.8862\n",
      "Epoch 2/10\n",
      "60000/60000 [==============================] - 18s 294us/step - loss: 0.1560 - accuracy: 0.9850\n",
      "Epoch 3/10\n",
      "60000/60000 [==============================] - 17s 288us/step - loss: 0.0826 - accuracy: 0.9978\n",
      "Epoch 4/10\n",
      "60000/60000 [==============================] - 19s 315us/step - loss: 0.0489 - accuracy: 0.9980\n",
      "Epoch 5/10\n",
      "60000/60000 [==============================] - 19s 316us/step - loss: 0.0309 - accuracy: 0.9981\n",
      "Epoch 6/10\n",
      "60000/60000 [==============================] - 17s 277us/step - loss: 0.0208 - accuracy: 0.9982\n",
      "Epoch 7/10\n",
      "60000/60000 [==============================] - 17s 288us/step - loss: 0.0150 - accuracy: 0.9982\n",
      "Epoch 8/10\n",
      "60000/60000 [==============================] - 21s 348us/step - loss: 0.0116 - accuracy: 0.9983\n",
      "Epoch 9/10\n",
      "60000/60000 [==============================] - 39s 643us/step - loss: 0.0096 - accuracy: 0.9983\n",
      "Epoch 10/10\n",
      "60000/60000 [==============================] - 24s 405us/step - loss: 0.0084 - accuracy: 0.9983\n"
     ]
    },
    {
     "data": {
      "text/plain": [
       "<keras.callbacks.callbacks.History at 0x216b131e908>"
      ]
     },
     "execution_count": 21,
     "metadata": {},
     "output_type": "execute_result"
    }
   ],
   "source": [
    "fineTune.compile(loss='binary_crossentropy', optimizer='adam', metrics=['accuracy'])\n",
    "fineTune.fit(inputs, outputs, epochs=5, batch_size=50)"
   ]
  },
  {
   "cell_type": "code",
   "execution_count": 22,
   "metadata": {},
   "outputs": [
    {
     "data": {
      "text/plain": [
       "9729"
      ]
     },
     "execution_count": 22,
     "metadata": {},
     "output_type": "execute_result"
    }
   ],
   "source": [
    "# Have the network predict the classes of the test inputs.\n",
    "predictions = fineTune.predict(testInputs)\n",
    "predictions = encoder.inverse_transform(predictions)\n",
    "##Comparison\n",
    "predictions == encoder.inverse_transform(testOutputs)\n",
    "#check how \n",
    "(predictions == encoder.inverse_transform(testOutputs)).sum()"
   ]
  },
  {
   "cell_type": "code",
   "execution_count": 23,
   "metadata": {},
   "outputs": [],
   "source": [
    "#Results\n",
    "#save new model\n",
    "fineTune.save('savedModel/freshlyTrained.h5')\n",
    "#test in client"
   ]
  },
  {
   "cell_type": "code",
   "execution_count": null,
   "metadata": {},
   "outputs": [],
   "source": []
  }
 ],
 "metadata": {
  "kernelspec": {
   "display_name": "Python 3",
   "language": "python",
   "name": "python3"
  },
  "language_info": {
   "codemirror_mode": {
    "name": "ipython",
    "version": 3
   },
   "file_extension": ".py",
   "mimetype": "text/x-python",
   "name": "python",
   "nbconvert_exporter": "python",
   "pygments_lexer": "ipython3",
   "version": "3.7.4"
  }
 },
 "nbformat": 4,
 "nbformat_minor": 2
}
